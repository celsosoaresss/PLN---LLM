{
 "cells": [
  {
   "cell_type": "code",
   "execution_count": 15,
   "metadata": {},
   "outputs": [],
   "source": [
    "import pandas as pd"
   ]
  },
  {
   "cell_type": "code",
   "execution_count": 16,
   "metadata": {},
   "outputs": [
    {
     "data": {
      "text/html": [
       "<div>\n",
       "<style scoped>\n",
       "    .dataframe tbody tr th:only-of-type {\n",
       "        vertical-align: middle;\n",
       "    }\n",
       "\n",
       "    .dataframe tbody tr th {\n",
       "        vertical-align: top;\n",
       "    }\n",
       "\n",
       "    .dataframe thead th {\n",
       "        text-align: right;\n",
       "    }\n",
       "</style>\n",
       "<table border=\"1\" class=\"dataframe\">\n",
       "  <thead>\n",
       "    <tr style=\"text-align: right;\">\n",
       "      <th></th>\n",
       "      <th>instagram_comments</th>\n",
       "      <th>offensive_language</th>\n",
       "      <th>offensiveness_levels</th>\n",
       "      <th>hate_speech</th>\n",
       "    </tr>\n",
       "  </thead>\n",
       "  <tbody>\n",
       "    <tr>\n",
       "      <th>0</th>\n",
       "      <td>este lixo ...</td>\n",
       "      <td>1</td>\n",
       "      <td>1</td>\n",
       "      <td>-1</td>\n",
       "    </tr>\n",
       "    <tr>\n",
       "      <th>1</th>\n",
       "      <td>Mais um lixo</td>\n",
       "      <td>1</td>\n",
       "      <td>1</td>\n",
       "      <td>-1</td>\n",
       "    </tr>\n",
       "    <tr>\n",
       "      <th>2</th>\n",
       "      <td>Essa nao tem vergonha na cara!!</td>\n",
       "      <td>1</td>\n",
       "      <td>2</td>\n",
       "      <td>-1</td>\n",
       "    </tr>\n",
       "    <tr>\n",
       "      <th>3</th>\n",
       "      <td>Essa mulher é doente.pilantra!</td>\n",
       "      <td>1</td>\n",
       "      <td>3</td>\n",
       "      <td>-1</td>\n",
       "    </tr>\n",
       "    <tr>\n",
       "      <th>4</th>\n",
       "      <td>Comunista safada...</td>\n",
       "      <td>1</td>\n",
       "      <td>2</td>\n",
       "      <td>5,8</td>\n",
       "    </tr>\n",
       "    <tr>\n",
       "      <th>...</th>\n",
       "      <td>...</td>\n",
       "      <td>...</td>\n",
       "      <td>...</td>\n",
       "      <td>...</td>\n",
       "    </tr>\n",
       "    <tr>\n",
       "      <th>6995</th>\n",
       "      <td>Time perdendo a credibilidade</td>\n",
       "      <td>0</td>\n",
       "      <td>0</td>\n",
       "      <td>0</td>\n",
       "    </tr>\n",
       "    <tr>\n",
       "      <th>6996</th>\n",
       "      <td>Siga em frente Presidente Bolsonaro! Afinal o ...</td>\n",
       "      <td>0</td>\n",
       "      <td>0</td>\n",
       "      <td>0</td>\n",
       "    </tr>\n",
       "    <tr>\n",
       "      <th>6997</th>\n",
       "      <td>Tantas coisas importantes para resolver e fica...</td>\n",
       "      <td>0</td>\n",
       "      <td>0</td>\n",
       "      <td>0</td>\n",
       "    </tr>\n",
       "    <tr>\n",
       "      <th>6998</th>\n",
       "      <td>A TIME escolhe quem eles quiser, isso não sign...</td>\n",
       "      <td>0</td>\n",
       "      <td>0</td>\n",
       "      <td>0</td>\n",
       "    </tr>\n",
       "    <tr>\n",
       "      <th>6999</th>\n",
       "      <td>Hitler também foi considerado o homem do ano p...</td>\n",
       "      <td>0</td>\n",
       "      <td>0</td>\n",
       "      <td>0</td>\n",
       "    </tr>\n",
       "  </tbody>\n",
       "</table>\n",
       "<p>7000 rows × 4 columns</p>\n",
       "</div>"
      ],
      "text/plain": [
       "                                     instagram_comments  offensive_language  \\\n",
       "0                                         este lixo ...                   1   \n",
       "1                                          Mais um lixo                   1   \n",
       "2                       Essa nao tem vergonha na cara!!                   1   \n",
       "3                        Essa mulher é doente.pilantra!                   1   \n",
       "4                                   Comunista safada...                   1   \n",
       "...                                                 ...                 ...   \n",
       "6995                      Time perdendo a credibilidade                   0   \n",
       "6996  Siga em frente Presidente Bolsonaro! Afinal o ...                   0   \n",
       "6997  Tantas coisas importantes para resolver e fica...                   0   \n",
       "6998  A TIME escolhe quem eles quiser, isso não sign...                   0   \n",
       "6999  Hitler também foi considerado o homem do ano p...                   0   \n",
       "\n",
       "      offensiveness_levels hate_speech  \n",
       "0                        1          -1  \n",
       "1                        1          -1  \n",
       "2                        2          -1  \n",
       "3                        3          -1  \n",
       "4                        2         5,8  \n",
       "...                    ...         ...  \n",
       "6995                     0           0  \n",
       "6996                     0           0  \n",
       "6997                     0           0  \n",
       "6998                     0           0  \n",
       "6999                     0           0  \n",
       "\n",
       "[7000 rows x 4 columns]"
      ]
     },
     "execution_count": 16,
     "metadata": {},
     "output_type": "execute_result"
    }
   ],
   "source": [
    "df = pd.read_csv('HateBR.csv')\n",
    "df"
   ]
  },
  {
   "cell_type": "code",
   "execution_count": 17,
   "metadata": {},
   "outputs": [
    {
     "data": {
      "text/plain": [
       "offensive_language\n",
       "1    3500\n",
       "0    3500\n",
       "Name: count, dtype: int64"
      ]
     },
     "execution_count": 17,
     "metadata": {},
     "output_type": "execute_result"
    }
   ],
   "source": [
    "df['offensive_language'].value_counts()"
   ]
  },
  {
   "cell_type": "code",
   "execution_count": 18,
   "metadata": {},
   "outputs": [
    {
     "data": {
      "text/plain": [
       "7000"
      ]
     },
     "execution_count": 18,
     "metadata": {},
     "output_type": "execute_result"
    }
   ],
   "source": [
    "len(df['instagram_comments'])"
   ]
  },
  {
   "cell_type": "markdown",
   "metadata": {},
   "source": [
    "*train test split*"
   ]
  },
  {
   "cell_type": "code",
   "execution_count": 19,
   "metadata": {},
   "outputs": [],
   "source": [
    "from sklearn.model_selection import train_test_split"
   ]
  },
  {
   "cell_type": "code",
   "execution_count": 20,
   "metadata": {},
   "outputs": [],
   "source": [
    "train_df, test_df = train_test_split(df, test_size=0.2, random_state=42, stratify=df['offensive_language'])\n",
    "train_df, val_df = train_test_split(train_df, test_size=0.1, random_state=42, stratify=train_df['offensive_language'])\n",
    "\n",
    "train_texts, train_labels = train_df['instagram_comments'].tolist(), train_df['offensive_language'].tolist()\n",
    "val_texts, val_labels = val_df['instagram_comments'].tolist(), val_df['offensive_language'].tolist()\n",
    "test_texts, test_labels = test_df['instagram_comments'].tolist(), test_df['offensive_language'].tolist()"
   ]
  },
  {
   "cell_type": "code",
   "execution_count": 21,
   "metadata": {},
   "outputs": [
    {
     "name": "stdout",
     "output_type": "stream",
     "text": [
      "Treino: 5040 amostras\n",
      "Validação: 560 amostras\n",
      "Teste: 1400 amostras\n"
     ]
    }
   ],
   "source": [
    "print(f\"Treino: {train_df.shape[0]} amostras\")\n",
    "print(f\"Validação: {val_df.shape[0]} amostras\")\n",
    "print(f\"Teste: {test_df.shape[0]} amostras\")"
   ]
  },
  {
   "cell_type": "code",
   "execution_count": 22,
   "metadata": {},
   "outputs": [
    {
     "name": "stdout",
     "output_type": "stream",
     "text": [
      "\n",
      "Distribuição das classes em cada conjunto:\n",
      "\n",
      "Treino:\n",
      "offensive_language\n",
      "0    2520\n",
      "1    2520\n",
      "Name: count, dtype: int64\n",
      "\n",
      "Validação:\n",
      "offensive_language\n",
      "1    280\n",
      "0    280\n",
      "Name: count, dtype: int64\n",
      "\n",
      "Teste:\n",
      "offensive_language\n",
      "0    700\n",
      "1    700\n",
      "Name: count, dtype: int64\n"
     ]
    }
   ],
   "source": [
    "# Contar exemplos por classe em cada conjunto\n",
    "print(\"\\nDistribuição das classes em cada conjunto:\")\n",
    "\n",
    "print(\"\\nTreino:\")\n",
    "print(train_df['offensive_language'].value_counts())\n",
    "\n",
    "print(\"\\nValidação:\")\n",
    "print(val_df['offensive_language'].value_counts())\n",
    "\n",
    "print(\"\\nTeste:\")\n",
    "print(test_df['offensive_language'].value_counts())"
   ]
  },
  {
   "cell_type": "markdown",
   "metadata": {},
   "source": [
    "*#1 teste - sem nenhum pré-processamento nos textos (bert-12)*"
   ]
  },
  {
   "cell_type": "code",
   "execution_count": 23,
   "metadata": {},
   "outputs": [],
   "source": [
    "import torch\n",
    "from transformers import BertTokenizer, BertForSequenceClassification\n",
    "from torch.utils.data import DataLoader, Dataset\n",
    "from sklearn.metrics import classification_report"
   ]
  },
  {
   "cell_type": "code",
   "execution_count": 24,
   "metadata": {},
   "outputs": [
    {
     "name": "stdout",
     "output_type": "stream",
     "text": [
      "cuda\n"
     ]
    }
   ],
   "source": [
    "device = torch.device(\"cuda\" if torch.cuda.is_available() else \"cpu\")\n",
    "print(device)"
   ]
  },
  {
   "cell_type": "code",
   "execution_count": 25,
   "metadata": {},
   "outputs": [],
   "source": [
    "tokenizer = BertTokenizer.from_pretrained(\"bert-base-uncased\")"
   ]
  },
  {
   "cell_type": "code",
   "execution_count": 26,
   "metadata": {},
   "outputs": [],
   "source": [
    "class HateSpeechDataset(Dataset):\n",
    "    def __init__(self, texts, labels, tokenizer, max_length=128):\n",
    "        self.texts = texts\n",
    "        self.labels = labels\n",
    "        self.tokenizer = tokenizer\n",
    "        self.max_length = max_length\n",
    "\n",
    "    def __len__(self):\n",
    "        return len(self.texts)\n",
    "\n",
    "    def __getitem__(self, idx):\n",
    "        text = self.texts[idx]\n",
    "        label = self.labels[idx]\n",
    "        encoding = self.tokenizer(\n",
    "            text,\n",
    "            max_length=self.max_length,\n",
    "            padding=\"max_length\",\n",
    "            truncation=True,\n",
    "            return_tensors=\"pt\",\n",
    "        )\n",
    "        return {\n",
    "            \"input_ids\": encoding[\"input_ids\"].squeeze(0),\n",
    "            \"attention_mask\": encoding[\"attention_mask\"].squeeze(0),\n",
    "            \"label\": torch.tensor(label, dtype=torch.long),\n",
    "        }"
   ]
  },
  {
   "cell_type": "code",
   "execution_count": 27,
   "metadata": {},
   "outputs": [],
   "source": [
    "# criando os datasets e dataloaders\n",
    "train_dataset = HateSpeechDataset(train_texts, train_labels, tokenizer)\n",
    "val_dataset = HateSpeechDataset(val_texts, val_labels, tokenizer)\n",
    "test_dataset = HateSpeechDataset(test_texts, test_labels, tokenizer)\n",
    "\n",
    "train_loader = DataLoader(train_dataset, batch_size=16, shuffle=True)\n",
    "val_loader = DataLoader(val_dataset, batch_size=16)\n",
    "test_loader = DataLoader(test_dataset, batch_size=16)"
   ]
  },
  {
   "cell_type": "code",
   "execution_count": 29,
   "metadata": {},
   "outputs": [
    {
     "name": "stderr",
     "output_type": "stream",
     "text": [
      "Some weights of BertForSequenceClassification were not initialized from the model checkpoint at bert-base-uncased and are newly initialized: ['classifier.bias', 'classifier.weight']\n",
      "You should probably TRAIN this model on a down-stream task to be able to use it for predictions and inference.\n"
     ]
    }
   ],
   "source": [
    "from torch.optim import AdamW\n",
    "\n",
    "#modelo BERT para classificação\n",
    "model = BertForSequenceClassification.from_pretrained(\"bert-base-uncased\", num_labels=2)\n",
    "model.to(device)\n",
    "optimizer = AdamW(model.parameters(), lr=1e-4)"
   ]
  },
  {
   "cell_type": "code",
   "execution_count": 96,
   "metadata": {},
   "outputs": [],
   "source": [
    "#treino e validação\n",
    "def train_epoch(model, dataloader, optimizer, device):\n",
    "    model.train()\n",
    "    total_loss = 0\n",
    "    for batch in dataloader:\n",
    "        input_ids = batch[\"input_ids\"].to(device)\n",
    "        attention_mask = batch[\"attention_mask\"].to(device)\n",
    "        labels = batch[\"label\"].to(device)\n",
    "\n",
    "        optimizer.zero_grad()\n",
    "        outputs = model(input_ids, attention_mask=attention_mask, labels=labels)\n",
    "        loss = outputs.loss\n",
    "        loss.backward()\n",
    "        optimizer.step()\n",
    "\n",
    "        total_loss += loss.item()\n",
    "    return total_loss / len(dataloader)\n",
    "\n",
    "def evaluate(model, dataloader, device):\n",
    "    model.eval()\n",
    "    all_preds = []\n",
    "    all_labels = []\n",
    "    total_loss = 0\n",
    "    with torch.no_grad():\n",
    "        for batch in dataloader:\n",
    "            input_ids = batch[\"input_ids\"].to(device)\n",
    "            attention_mask = batch[\"attention_mask\"].to(device)\n",
    "            labels = batch[\"label\"].to(device)\n",
    "\n",
    "            outputs = model(input_ids, attention_mask=attention_mask, labels=labels)\n",
    "            logits = outputs.logits\n",
    "            preds = torch.argmax(logits, dim=1)\n",
    "\n",
    "            all_preds.extend(preds.cpu().numpy())\n",
    "            all_labels.extend(labels.cpu().numpy())\n",
    "\n",
    "            total_loss += outputs.loss.item()\n",
    "    \n",
    "    # Calcular a perda média com 4 dígitos\n",
    "    avg_loss = round(total_loss / len(dataloader), 4)\n",
    "    \n",
    "    return avg_loss, all_preds, all_labels"
   ]
  },
  {
   "cell_type": "code",
   "execution_count": 97,
   "metadata": {},
   "outputs": [
    {
     "name": "stdout",
     "output_type": "stream",
     "text": [
      "Epoch 1/3\n",
      "  Treino Loss: 0.6340\n",
      "  Validação Loss: 0.6715\n",
      "Epoch 2/3\n",
      "  Treino Loss: 0.6650\n",
      "  Validação Loss: 0.6576\n",
      "Epoch 3/3\n",
      "  Treino Loss: 0.6684\n",
      "  Validação Loss: 0.6683\n"
     ]
    }
   ],
   "source": [
    "epochs = 3\n",
    "for epoch in range(epochs):\n",
    "    # Treinamento por época\n",
    "    train_loss = train_epoch(model, train_loader, optimizer, device)\n",
    "    \n",
    "    # Avaliação no conjunto de validação\n",
    "    val_loss, val_preds, val_labels = evaluate(model, val_loader, device)\n",
    "    \n",
    "    # Exibir métricas por época\n",
    "    print(f\"Epoch {epoch + 1}/{epochs}\")\n",
    "    print(f\"  Treino Loss: {train_loss:.4f}\")\n",
    "    print(f\"  Validação Loss: {val_loss:.4f}\")\n",
    "    #print(classification_report(val_labels, val_preds))"
   ]
  },
  {
   "cell_type": "code",
   "execution_count": 98,
   "metadata": {},
   "outputs": [
    {
     "name": "stdout",
     "output_type": "stream",
     "text": [
      "\n",
      "Avaliação Final no Conjunto de Teste:\n",
      "Teste Loss: 0.6701\n",
      "              precision    recall  f1-score   support\n",
      "\n",
      "           0       0.97      0.08      0.15       700\n",
      "           1       0.52      1.00      0.68       700\n",
      "\n",
      "    accuracy                           0.54      1400\n",
      "   macro avg       0.74      0.54      0.42      1400\n",
      "weighted avg       0.74      0.54      0.42      1400\n",
      "\n"
     ]
    }
   ],
   "source": [
    "# Avaliação final no conjunto de teste\n",
    "test_loss, test_preds, test_labels = evaluate(model, test_loader, device)\n",
    "print(\"\\nAvaliação Final no Conjunto de Teste:\")\n",
    "print(f\"Teste Loss: {test_loss:.4f}\")\n",
    "print(classification_report(test_labels, test_preds))"
   ]
  },
  {
   "cell_type": "markdown",
   "metadata": {},
   "source": [
    "*com pré-processamento*"
   ]
  },
  {
   "cell_type": "code",
   "execution_count": 99,
   "metadata": {},
   "outputs": [],
   "source": [
    "import re\n",
    "import torch\n",
    "from sklearn.model_selection import train_test_split\n",
    "from sklearn.metrics import classification_report, accuracy_score\n",
    "from transformers import BertTokenizer, BertForSequenceClassification, AdamW\n",
    "from nltk.corpus import stopwords\n",
    "import spacy"
   ]
  },
  {
   "cell_type": "code",
   "execution_count": 100,
   "metadata": {},
   "outputs": [],
   "source": [
    "comments = df[\"instagram_comments\"].tolist()\n",
    "labels = df[\"offensive_language\"].tolist()"
   ]
  },
  {
   "cell_type": "code",
   "execution_count": 101,
   "metadata": {},
   "outputs": [
    {
     "name": "stderr",
     "output_type": "stream",
     "text": [
      "[nltk_data] Downloading package stopwords to\n",
      "[nltk_data]     C:\\Users\\celso\\AppData\\Roaming\\nltk_data...\n",
      "[nltk_data]   Package stopwords is already up-to-date!\n"
     ]
    }
   ],
   "source": [
    "import nltk\n",
    "nltk.download(\"stopwords\")\n",
    "stop_words = set(stopwords.words(\"portuguese\"))  # Stop words para português\n",
    "nlp = spacy.load(\"pt_core_news_sm\")  # Modelo Spacy para português\n",
    "\n",
    "# Funções de pré-processamento\n",
    "def remove_special_characters(text):\n",
    "    \"\"\"Remove caracteres especiais, emojis, links e menções\"\"\"\n",
    "    text = re.sub(r\"http\\S+\", \"\", text)  # Remove links\n",
    "    text = re.sub(r\"@\\w+\", \"\", text)  # Remove menções\n",
    "    text = re.sub(r\"[^a-zA-Z0-9\\s]\", \"\", text)  # Remove caracteres especiais\n",
    "    return text\n",
    "\n",
    "def normalize_text(text):\n",
    "    \"\"\"Converte texto para minúsculas e remove espaços extras\"\"\"\n",
    "    text = text.lower()  # Converte para minúsculas\n",
    "    text = re.sub(r\"\\s+\", \" \", text).strip()  # Remove espaços extras\n",
    "    return text\n",
    "\n",
    "def remove_stop_words(text):\n",
    "    \"\"\"Remove palavras irrelevantes (stop words)\"\"\"\n",
    "    return \" \".join([word for word in text.split() if word not in stop_words])\n",
    "\n",
    "def lemmatize_text(text):\n",
    "    \"\"\"Reduz as palavras à sua forma base usando Spacy\"\"\"\n",
    "    doc = nlp(text)\n",
    "    return \" \".join([token.lemma_ for token in doc if not token.is_punct])\n",
    "\n",
    "def preprocess_text(text):\n",
    "    \"\"\"Aplica todas as etapas de pré-processamento no texto\"\"\"\n",
    "    text = remove_special_characters(text)\n",
    "    text = normalize_text(text)\n",
    "    text = remove_stop_words(text)\n",
    "    text = lemmatize_text(text)\n",
    "    return text"
   ]
  },
  {
   "cell_type": "code",
   "execution_count": 102,
   "metadata": {},
   "outputs": [],
   "source": [
    "# Aplicar o pré-processamento nos conjuntos de treino, teste e validação\n",
    "train_texts = [preprocess_text(text) for text in train_texts]\n",
    "val_texts = [preprocess_text(text) for text in val_texts]\n",
    "test_texts = [preprocess_text(text) for text in test_texts]"
   ]
  },
  {
   "cell_type": "code",
   "execution_count": 103,
   "metadata": {},
   "outputs": [],
   "source": [
    "# Criar os datasets após o pré-processamento\n",
    "train_dataset = HateSpeechDataset(train_texts, train_labels, tokenizer)\n",
    "val_dataset = HateSpeechDataset(val_texts, val_labels, tokenizer)\n",
    "test_dataset = HateSpeechDataset(test_texts, test_labels, tokenizer)\n",
    "\n",
    "# Criar os DataLoaders\n",
    "train_loader = DataLoader(train_dataset, batch_size=16, shuffle=True)\n",
    "val_loader = DataLoader(val_dataset, batch_size=16)\n",
    "test_loader = DataLoader(test_dataset, batch_size=16)"
   ]
  },
  {
   "cell_type": "code",
   "execution_count": 104,
   "metadata": {},
   "outputs": [
    {
     "name": "stdout",
     "output_type": "stream",
     "text": [
      "Epoch 1/3\n",
      "  Treino Loss: 0.6705\n",
      "  Validação Loss: 0.6738\n",
      "Epoch 2/3\n",
      "  Treino Loss: 0.6476\n",
      "  Validação Loss: 0.6322\n",
      "Epoch 3/3\n",
      "  Treino Loss: 0.6274\n",
      "  Validação Loss: 0.7084\n"
     ]
    }
   ],
   "source": [
    "epochs = 3\n",
    "for epoch in range(epochs):\n",
    "    # Treinamento por época\n",
    "    train_loss = train_epoch(model, train_loader, optimizer, device)\n",
    "    \n",
    "    # Avaliação no conjunto de validação\n",
    "    val_loss, val_preds, val_labels = evaluate(model, val_loader, device)\n",
    "    \n",
    "    # Exibir métricas por época\n",
    "    print(f\"Epoch {epoch + 1}/{epochs}\")\n",
    "    print(f\"  Treino Loss: {train_loss:.4f}\")\n",
    "    print(f\"  Validação Loss: {val_loss:.4f}\")\n",
    "    #print(classification_report(val_labels, val_preds))"
   ]
  },
  {
   "cell_type": "code",
   "execution_count": 105,
   "metadata": {},
   "outputs": [
    {
     "name": "stdout",
     "output_type": "stream",
     "text": [
      "\n",
      "Avaliação Final no Conjunto de Teste:\n",
      "Teste Loss: 0.7066\n",
      "              precision    recall  f1-score   support\n",
      "\n",
      "           0       0.50      1.00      0.67       700\n",
      "           1       0.86      0.02      0.03       700\n",
      "\n",
      "    accuracy                           0.51      1400\n",
      "   macro avg       0.68      0.51      0.35      1400\n",
      "weighted avg       0.68      0.51      0.35      1400\n",
      "\n"
     ]
    }
   ],
   "source": [
    "# Avaliação final no conjunto de teste\n",
    "test_loss, test_preds, test_labels = evaluate(model, test_loader, device)\n",
    "print(\"\\nAvaliação Final no Conjunto de Teste:\")\n",
    "print(f\"Teste Loss: {test_loss:.4f}\")\n",
    "print(classification_report(test_labels, test_preds))"
   ]
  }
 ],
 "metadata": {
  "kernelspec": {
   "display_name": "PET_torch",
   "language": "python",
   "name": "python3"
  },
  "language_info": {
   "codemirror_mode": {
    "name": "ipython",
    "version": 3
   },
   "file_extension": ".py",
   "mimetype": "text/x-python",
   "name": "python",
   "nbconvert_exporter": "python",
   "pygments_lexer": "ipython3",
   "version": "3.9.20"
  }
 },
 "nbformat": 4,
 "nbformat_minor": 2
}
